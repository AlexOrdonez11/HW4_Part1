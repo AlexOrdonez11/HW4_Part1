{
 "cells": [
  {
   "cell_type": "code",
   "execution_count": 56,
   "id": "22c173c2-e06f-4894-93cf-6b316e461cd1",
   "metadata": {},
   "outputs": [],
   "source": [
    "# Importing pandas as its easier to read files and pre-process data\n",
    "import pandas as pd"
   ]
  },
  {
   "cell_type": "code",
   "execution_count": 58,
   "id": "f070b623-541a-48ed-9457-79788e64f7f7",
   "metadata": {},
   "outputs": [
    {
     "data": {
      "text/plain": [
       "array([[  123],\n",
       "       [  126],\n",
       "       [  130],\n",
       "       ...,\n",
       "       [10390],\n",
       "       [10410],\n",
       "       [10411]], dtype=int64)"
      ]
     },
     "execution_count": 58,
     "metadata": {},
     "output_type": "execute_result"
    }
   ],
   "source": [
    "# Reading the input file\n",
    "array=pd.read_csv('./input.txt',header=None).values\n",
    "array"
   ]
  },
  {
   "cell_type": "code",
   "execution_count": 60,
   "id": "02fb306b-8ef4-4b92-b00a-4b3f5d2e5d32",
   "metadata": {},
   "outputs": [
    {
     "name": "stdout",
     "output_type": "stream",
     "text": [
      "The amount of measurements that are larger than the previous measurement is: 1759\n"
     ]
    }
   ],
   "source": [
    "# Saving the first number to compare it with the nextones\n",
    "prev_number=array[0]\n",
    "\n",
    "# Variable to save how many increases there are\n",
    "count=0\n",
    "\n",
    "# For loop to compare each of the numbers in the input\n",
    "for i in range (1, len (array)):\n",
    "    if array[i]>prev_number:\n",
    "        count+=1\n",
    "    prev_number=array[i]\n",
    "\n",
    "print(f\"The amount of measurements that are larger than the previous measurement is: {count}\")"
   ]
  },
  {
   "cell_type": "code",
   "execution_count": 62,
   "id": "5e9806f5-3bd2-464e-a49a-0684a5e7b98e",
   "metadata": {},
   "outputs": [
    {
     "name": "stdout",
     "output_type": "stream",
     "text": [
      "The amount of windows that are larger than the previous windows is: 1805\n"
     ]
    }
   ],
   "source": [
    "# Save the first window to compare it with the next ones\n",
    "prev_window=array[0]+array[1]+array[2]\n",
    "\n",
    "# Variable to save how many increases there are\n",
    "count=0\n",
    "\n",
    "# For loop to compare each of the sum of numbers in the input\n",
    "for i in range (1, len (array)):\n",
    "    \n",
    "    if i+2 < len(array):\n",
    "        new_window=array[i]+array[i+1]+array[i+2]\n",
    "    else:\n",
    "        break\n",
    "    if new_window>prev_window:\n",
    "        count+=1\n",
    "    prev_window=new_window\n",
    "    \n",
    "\n",
    "print(f\"The amount of windows that are larger than the previous windows is: {count}\")"
   ]
  }
 ],
 "metadata": {
  "kernelspec": {
   "display_name": "Python [conda env:base] *",
   "language": "python",
   "name": "conda-base-py"
  },
  "language_info": {
   "codemirror_mode": {
    "name": "ipython",
    "version": 3
   },
   "file_extension": ".py",
   "mimetype": "text/x-python",
   "name": "python",
   "nbconvert_exporter": "python",
   "pygments_lexer": "ipython3",
   "version": "3.9.18"
  }
 },
 "nbformat": 4,
 "nbformat_minor": 5
}
